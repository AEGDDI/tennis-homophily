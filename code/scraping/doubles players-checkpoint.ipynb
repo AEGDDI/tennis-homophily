{
 "cells": [
  {
   "cell_type": "code",
   "execution_count": 9,
   "metadata": {},
   "outputs": [],
   "source": [
    "import os\n",
    "import csv\n",
    "from selenium import webdriver\n",
    "from selenium.webdriver.chrome.options import Options\n",
    "from selenium.webdriver.chrome.service import Service\n",
    "from selenium.webdriver.common.by import By\n",
    "from selenium.webdriver.support.ui import WebDriverWait\n",
    "from selenium.webdriver.support import expected_conditions as EC\n",
    "from bs4 import BeautifulSoup\n",
    "import time\n",
    "import pandas as pd\n"
   ]
  },
  {
   "cell_type": "code",
   "execution_count": 10,
   "metadata": {},
   "outputs": [],
   "source": [
    "user = \"aldi\""
   ]
  },
  {
   "cell_type": "code",
   "execution_count": 11,
   "metadata": {},
   "outputs": [],
   "source": [
    "# Path to the ChromeDriver\n",
    "chrome_driver_path = f\"C:/Users/{user}/Downloads/chromedriver.exe\""
   ]
  },
  {
   "cell_type": "code",
   "execution_count": 12,
   "metadata": {},
   "outputs": [],
   "source": [
    "output_folder = f\"C:/Users/{user}/Documents/GitHub/tennis-homophily/data/atp\"\n"
   ]
  },
  {
   "cell_type": "code",
   "execution_count": 13,
   "metadata": {},
   "outputs": [],
   "source": [
    "url = \"https://www.atptour.com/en/rankings/doubles?rankRange=1-5000\""
   ]
  },
  {
   "cell_type": "code",
   "execution_count": 14,
   "metadata": {},
   "outputs": [],
   "source": [
    "def get_highest_dates(date_values):\n",
    "    highest_dates = {}\n",
    "    for date in date_values:\n",
    "        year_month = date[:7]  # Extract the year and month part of the date\n",
    "        day = int(date[-2:])  # Extract the day part of the date and convert to an integer\n",
    "\n",
    "        # If the current date has a day greater than the stored date for the same year and month,\n",
    "        # update the highest_dates dictionary with the current date\n",
    "        if year_month not in highest_dates or day > highest_dates[year_month]:\n",
    "            highest_dates[year_month] = day\n",
    "\n",
    "    # Combine the year and month with the highest day to form the final list of dates\n",
    "    highest_dates_list = [f\"{year_month}-{highest_day:02d}\" for year_month, highest_day in highest_dates.items()]\n",
    "\n",
    "    return highest_dates_list"
   ]
  },
  {
   "cell_type": "code",
   "execution_count": 15,
   "metadata": {},
   "outputs": [],
   "source": [
    "# Configure ChromeOptions for headless mode\n",
    "options = Options()\n",
    "#options.add_argument(\"--headless\")\n",
    "# add options to diagnose errors\n",
    "options.add_argument(\"--verbose\")\n",
    "options.add_argument(\"--log-path=chromedriver.log\")\n",
    "\n",
    "\n",
    "service = Service(chrome_driver_path)"
   ]
  },
  {
   "cell_type": "code",
   "execution_count": 16,
   "metadata": {},
   "outputs": [
    {
     "ename": "TimeoutException",
     "evalue": "Message: \nStacktrace:\n\tGetHandleVerifier [0x00007FF67E681F52+60322]\n\t(No symbol) [0x00007FF67E5FCEC9]\n\t(No symbol) [0x00007FF67E4B7EBA]\n\t(No symbol) [0x00007FF67E507676]\n\t(No symbol) [0x00007FF67E50773C]\n\t(No symbol) [0x00007FF67E54E967]\n\t(No symbol) [0x00007FF67E52C25F]\n\t(No symbol) [0x00007FF67E54BC80]\n\t(No symbol) [0x00007FF67E52BFC3]\n\t(No symbol) [0x00007FF67E4F9617]\n\t(No symbol) [0x00007FF67E4FA211]\n\tGetHandleVerifier [0x00007FF67E9994AD+3301629]\n\tGetHandleVerifier [0x00007FF67E9E36D3+3605283]\n\tGetHandleVerifier [0x00007FF67E9D9450+3563680]\n\tGetHandleVerifier [0x00007FF67E734326+790390]\n\t(No symbol) [0x00007FF67E60750F]\n\t(No symbol) [0x00007FF67E603404]\n\t(No symbol) [0x00007FF67E603592]\n\t(No symbol) [0x00007FF67E5F2F9F]\n\tBaseThreadInitThunk [0x00007FFCFEA87344+20]\n\tRtlUserThreadStart [0x00007FFCFF5A26B1+33]\n",
     "output_type": "error",
     "traceback": [
      "\u001b[1;31m---------------------------------------------------------------------------\u001b[0m",
      "\u001b[1;31mTimeoutException\u001b[0m                          Traceback (most recent call last)",
      "\u001b[1;32m<ipython-input-16-65101c4e1fd4>\u001b[0m in \u001b[0;36m<module>\u001b[1;34m\u001b[0m\n\u001b[0;32m      8\u001b[0m         \u001b[0mWebDriverWait\u001b[0m\u001b[1;33m(\u001b[0m\u001b[0mdriver1\u001b[0m\u001b[1;33m,\u001b[0m \u001b[1;36m10\u001b[0m\u001b[1;33m)\u001b[0m\u001b[1;33m.\u001b[0m\u001b[0muntil\u001b[0m\u001b[1;33m(\u001b[0m\u001b[0mEC\u001b[0m\u001b[1;33m.\u001b[0m\u001b[0mpresence_of_element_located\u001b[0m\u001b[1;33m(\u001b[0m\u001b[1;33m(\u001b[0m\u001b[0mBy\u001b[0m\u001b[1;33m.\u001b[0m\u001b[0mCLASS_NAME\u001b[0m\u001b[1;33m,\u001b[0m \u001b[1;34m\"mega-table\"\u001b[0m\u001b[1;33m)\u001b[0m\u001b[1;33m)\u001b[0m\u001b[1;33m)\u001b[0m\u001b[1;33m\u001b[0m\u001b[1;33m\u001b[0m\u001b[0m\n\u001b[0;32m      9\u001b[0m         date_dropdown_ul = WebDriverWait(driver1, 10).until(\n\u001b[1;32m---> 10\u001b[1;33m             \u001b[0mEC\u001b[0m\u001b[1;33m.\u001b[0m\u001b[0mpresence_of_element_located\u001b[0m\u001b[1;33m(\u001b[0m\u001b[1;33m(\u001b[0m\u001b[0mBy\u001b[0m\u001b[1;33m.\u001b[0m\u001b[0mCSS_SELECTOR\u001b[0m\u001b[1;33m,\u001b[0m \u001b[1;34m\"ul[data-value='rankDate']\"\u001b[0m\u001b[1;33m)\u001b[0m\u001b[1;33m)\u001b[0m\u001b[1;33m\u001b[0m\u001b[1;33m\u001b[0m\u001b[0m\n\u001b[0m\u001b[0;32m     11\u001b[0m         )\n\u001b[0;32m     12\u001b[0m         \u001b[0mdate_options\u001b[0m \u001b[1;33m=\u001b[0m \u001b[0mdate_dropdown_ul\u001b[0m\u001b[1;33m.\u001b[0m\u001b[0mfind_elements\u001b[0m\u001b[1;33m(\u001b[0m\u001b[0mBy\u001b[0m\u001b[1;33m.\u001b[0m\u001b[0mTAG_NAME\u001b[0m\u001b[1;33m,\u001b[0m \u001b[1;34m\"li\"\u001b[0m\u001b[1;33m)\u001b[0m\u001b[1;33m\u001b[0m\u001b[1;33m\u001b[0m\u001b[0m\n",
      "\u001b[1;32m~\\AppData\\Roaming\\Python\\Python37\\site-packages\\selenium\\webdriver\\support\\wait.py\u001b[0m in \u001b[0;36muntil\u001b[1;34m(self, method, message)\u001b[0m\n\u001b[0;32m     87\u001b[0m             \u001b[1;32mif\u001b[0m \u001b[0mtime\u001b[0m\u001b[1;33m.\u001b[0m\u001b[0mmonotonic\u001b[0m\u001b[1;33m(\u001b[0m\u001b[1;33m)\u001b[0m \u001b[1;33m>\u001b[0m \u001b[0mend_time\u001b[0m\u001b[1;33m:\u001b[0m\u001b[1;33m\u001b[0m\u001b[1;33m\u001b[0m\u001b[0m\n\u001b[0;32m     88\u001b[0m                 \u001b[1;32mbreak\u001b[0m\u001b[1;33m\u001b[0m\u001b[1;33m\u001b[0m\u001b[0m\n\u001b[1;32m---> 89\u001b[1;33m         \u001b[1;32mraise\u001b[0m \u001b[0mTimeoutException\u001b[0m\u001b[1;33m(\u001b[0m\u001b[0mmessage\u001b[0m\u001b[1;33m,\u001b[0m \u001b[0mscreen\u001b[0m\u001b[1;33m,\u001b[0m \u001b[0mstacktrace\u001b[0m\u001b[1;33m)\u001b[0m\u001b[1;33m\u001b[0m\u001b[1;33m\u001b[0m\u001b[0m\n\u001b[0m\u001b[0;32m     90\u001b[0m \u001b[1;33m\u001b[0m\u001b[0m\n\u001b[0;32m     91\u001b[0m     \u001b[1;32mdef\u001b[0m \u001b[0muntil_not\u001b[0m\u001b[1;33m(\u001b[0m\u001b[0mself\u001b[0m\u001b[1;33m,\u001b[0m \u001b[0mmethod\u001b[0m\u001b[1;33m,\u001b[0m \u001b[0mmessage\u001b[0m\u001b[1;33m=\u001b[0m\u001b[1;34m''\u001b[0m\u001b[1;33m)\u001b[0m\u001b[1;33m:\u001b[0m\u001b[1;33m\u001b[0m\u001b[1;33m\u001b[0m\u001b[0m\n",
      "\u001b[1;31mTimeoutException\u001b[0m: Message: \nStacktrace:\n\tGetHandleVerifier [0x00007FF67E681F52+60322]\n\t(No symbol) [0x00007FF67E5FCEC9]\n\t(No symbol) [0x00007FF67E4B7EBA]\n\t(No symbol) [0x00007FF67E507676]\n\t(No symbol) [0x00007FF67E50773C]\n\t(No symbol) [0x00007FF67E54E967]\n\t(No symbol) [0x00007FF67E52C25F]\n\t(No symbol) [0x00007FF67E54BC80]\n\t(No symbol) [0x00007FF67E52BFC3]\n\t(No symbol) [0x00007FF67E4F9617]\n\t(No symbol) [0x00007FF67E4FA211]\n\tGetHandleVerifier [0x00007FF67E9994AD+3301629]\n\tGetHandleVerifier [0x00007FF67E9E36D3+3605283]\n\tGetHandleVerifier [0x00007FF67E9D9450+3563680]\n\tGetHandleVerifier [0x00007FF67E734326+790390]\n\t(No symbol) [0x00007FF67E60750F]\n\t(No symbol) [0x00007FF67E603404]\n\t(No symbol) [0x00007FF67E603592]\n\t(No symbol) [0x00007FF67E5F2F9F]\n\tBaseThreadInitThunk [0x00007FFCFEA87344+20]\n\tRtlUserThreadStart [0x00007FFCFF5A26B1+33]\n"
     ]
    }
   ],
   "source": [
    "try:\n",
    "    all_data = []\n",
    "    dates = []  # List to store corresponding dates\n",
    "\n",
    "    with webdriver.Chrome(service=service) as driver1:\n",
    "        driver1.get(url)\n",
    "        driver1.minimize_window()\n",
    "        WebDriverWait(driver1, 10).until(EC.presence_of_element_located((By.CLASS_NAME, \"mega-table\")))\n",
    "        date_dropdown_ul = WebDriverWait(driver1, 10).until(\n",
    "            EC.presence_of_element_located((By.CSS_SELECTOR, \"ul[data-value='rankDate']\"))\n",
    "        )\n",
    "        date_options = date_dropdown_ul.find_elements(By.TAG_NAME, \"li\")\n",
    "\n",
    "        date_values = []\n",
    "        for option in date_options:\n",
    "            date_value = option.get_attribute(\"data-value\")\n",
    "            if date_value is None:\n",
    "                continue\n",
    "            try:\n",
    "                year = int(date_value[:4])\n",
    "            except ValueError:\n",
    "                continue\n",
    "            if year > 2013:\n",
    "                date_values.append(date_value)\n",
    "\n",
    "    filtered_dates = get_highest_dates(date_values)\n",
    "    print(\"Filtered Dates:\", filtered_dates)\n",
    "\n",
    "#     filtered_dates = [filtered_dates[-1]]\n",
    "\n",
    "    for date in filtered_dates:\n",
    "        with webdriver.Chrome(service=service, options = options) as driver2:\n",
    "            complete_url = f\"https://www.atptour.com/en/rankings/doubles?rankRange=1-5000&rankDate={date}\"\n",
    "            print(\"Accessing URL for date:\", date)  # Print the URL being accessed\n",
    "            driver2.get(complete_url)\n",
    "            driver2.minimize_window()\n",
    "            WebDriverWait(driver2, 10).until(EC.presence_of_element_located((By.CLASS_NAME, \"mega-table\")))  # Wait for the table to be present\n",
    "            time.sleep(5)\n",
    "\n",
    "            page_source = driver2.page_source\n",
    "            soup = BeautifulSoup(page_source, \"html.parser\")\n",
    "\n",
    "            rankings_table = soup.find(\"table\", {\"class\": \"mega-table\"})\n",
    "            if rankings_table is None:\n",
    "                print(f\"Table not found for date: {date}\")\n",
    "                continue  # Skip to the next date if the table is not found\n",
    "\n",
    "            rows = rankings_table.find_all(\"tr\")[1:150] # Process only the first n rows\n",
    "\n",
    "\n",
    "            for index, row in enumerate (rows, start = 1):\n",
    "                rank = row.find(\"td\", {\"class\": \"rank-cell\"}).text.strip()\n",
    "                player_name = row.find(\"td\", {\"class\": \"player-cell\"}).text.strip()\n",
    "                age = row.find(\"td\", {\"class\": \"age-cell\"}).text.strip()\n",
    "                points = row.find(\"td\", {\"class\": \"points-cell\"}).text.strip()\n",
    "                tournaments_played = row.find(\"td\", {\"class\": \"tourn-cell\"}).text.strip()\n",
    "                player_profile_link = row.find(\"a\", href=True)[\"href\"]\n",
    "                print(f\"Processing row {index}: Rank {rank}, Player {player_name}\")  # Print the current row being processed\n",
    "\n",
    "\n",
    "                with webdriver.Chrome(service=service, options = options) as driver3:\n",
    "                    driver3.get(f\"https://www.atptour.com{player_profile_link}\")\n",
    "                    driver3.minimize_window()\n",
    "                    time.sleep(5)\n",
    "                    player_page_source = driver3.page_source\n",
    "                    soup_player = BeautifulSoup(player_page_source, \"html.parser\")\n",
    "\n",
    "                    birthplace_div = soup_player.find(\"div\", class_=\"table-value\")\n",
    "                    birthplace = birthplace_div.get_text(strip=True)\n",
    "                    city_birthplace, _, country_birthplace = birthplace.partition(\",\")\n",
    "\n",
    "                    turned_pro_label_div = soup_player.find(\"div\", class_=\"table-big-label\", text=\"Turned Pro\")\n",
    "                    year_pro_div = turned_pro_label_div.find_next_sibling(\"div\", class_=\"table-big-value\")\n",
    "                    year_pro = year_pro_div.get_text(strip=True)\n",
    "\n",
    "                    weight_span = soup_player.select_one(\"span.table-weight-kg-wrapper\")\n",
    "                    weight_kg = weight_span.get_text(strip=True).strip(\"()\") if weight_span else \"\"\n",
    "\n",
    "                    height_span = soup_player.select_one(\"span.table-height-cm-wrapper\")\n",
    "                    height_cm = height_span.get_text(strip=True).strip(\"()\") if height_span else \"\"\n",
    "\n",
    "                    hand_backhand_div = soup_player.find_all(\"div\", class_=\"table-value\")[1]\n",
    "                    hand, backhand = [item.strip() for item in hand_backhand_div.get_text(strip=True).split(\",\")]\n",
    "\n",
    "                    coach_div = soup_player.find_all(\"div\", class_=\"table-value\")[2]\n",
    "                    coaches = coach_div.get_text(strip=True).split(\", \")\n",
    "                    coach1 = coaches[0]\n",
    "                    coach2 = coaches[1] if len(coaches) > 1 else \"\"\n",
    "\n",
    "                    all_data.append([rank, player_name, age, points, tournaments_played, year_pro, weight_kg, height_cm, city_birthplace, country_birthplace, hand, backhand, coach1, coach2])\n",
    "                    dates.append(date)  # Append date for each row\n",
    "\n",
    "    df = pd.DataFrame(all_data, columns=[\"Rank\", \"Player\", \"Age\", \"Points\", \"Tournaments Played\", \"Year Turned Pro\", \"Weight (kg)\", \"Height (cm)\", \"City of Birthplace\", \"Country of Birthplace\", \"Hand\", \"Backhand\", \"Coach1\", \"Coach2\"])\n",
    "    df['Date'] = dates  # Add 'Date' column to the DataFrame\n",
    "\n",
    "    output_excel_filename = os.path.join(output_folder, \"atp_doubles.xlsx\")\n",
    "    df.to_excel(output_excel_filename, index=False)\n",
    "\n",
    "    print(f\"All data saved to {output_excel_filename}\")\n",
    "\n",
    "finally:\n",
    "    service.stop()\n"
   ]
  },
  {
   "cell_type": "code",
   "execution_count": null,
   "metadata": {},
   "outputs": [],
   "source": [
    "# shut down operating system after 360 seconds (6 minutes)\n",
    "os.system(\"shutdown /s /t 360\")\n"
   ]
  }
 ],
 "metadata": {
  "kernelspec": {
   "display_name": "Python 3",
   "language": "python",
   "name": "python3"
  },
  "language_info": {
   "codemirror_mode": {
    "name": "ipython",
    "version": 3
   },
   "file_extension": ".py",
   "mimetype": "text/x-python",
   "name": "python",
   "nbconvert_exporter": "python",
   "pygments_lexer": "ipython3",
   "version": "3.7.3"
  }
 },
 "nbformat": 4,
 "nbformat_minor": 5
}
