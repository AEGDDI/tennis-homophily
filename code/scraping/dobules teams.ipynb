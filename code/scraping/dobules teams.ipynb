{
 "cells": [
  {
   "cell_type": "code",
   "execution_count": 8,
   "metadata": {},
   "outputs": [
    {
     "name": "stderr",
     "output_type": "stream",
     "text": [
      "C:\\ProgramData\\Anaconda3\\lib\\site-packages\\ipykernel_launcher.py:15: DeprecationWarning: executable_path has been deprecated, please pass in a Service object\n",
      "  from ipykernel import kernelapp as app\n"
     ]
    }
   ],
   "source": [
    "from selenium import webdriver\n",
    "from selenium.webdriver.common.by import By\n",
    "import pandas as pd\n",
    "import time\n",
    "\n",
    "# User-specific details\n",
    "user = 'aldi'  # Replace with your Windows username\n",
    "\n",
    "# Paths\n",
    "chrome_driver_path = f\"C:/Users/{user}/Downloads/chromedriver.exe\"\n",
    "output_folder = f\"C:/Users/{user}/Documents/GitHub/tennis-homophily/data/atp\"\n",
    "output_file = f'{output_folder}/atp_doubles_team_rankings.xlsx'\n",
    "\n",
    "# Set up the Selenium WebDriver\n",
    "driver = webdriver.Chrome(chrome_driver_path)\n",
    "\n",
    "# Navigate to the website\n",
    "driver.get('https://www.atptour.com/en/rankings/doubles-team-rankings')\n",
    "\n",
    "# Wait for the page to load\n",
    "time.sleep(5)  # Adjust time as needed\n",
    "\n",
    "# Extracting the data\n",
    "data = []\n",
    "rows = driver.find_elements(By.CLASS_NAME, 'row--race')\n",
    "\n",
    "for row in rows:\n",
    "    live_rank = row.find_element(By.CLASS_NAME, 'live-rank').text\n",
    "    player = row.find_element(By.CLASS_NAME, 'player-name').text\n",
    "    age = row.find_element(By.CLASS_NAME, 'player-age').text\n",
    "    live_points = row.find_element(By.CLASS_NAME, 'live-points').text\n",
    "\n",
    "    # Split the 'player' and 'age' fields\n",
    "    players = player.split()\n",
    "    ages = age.split('/')\n",
    "\n",
    "    # Append the data\n",
    "    data.append([live_rank, players[0], players[1], ages[0], ages[1], live_points])\n",
    "\n",
    "# Close the WebDriver\n",
    "driver.quit()\n",
    "\n",
    "# Create a DataFrame\n",
    "df = pd.DataFrame(data, columns=['Live Rank', 'Player1', 'Player2', 'Age_Player1', 'Age_Player2', 'Live Points'])\n",
    "\n",
    "# Cleaning the data: Splitting 'Player' and 'Age' columns\n",
    "# Handling cases where splitting might not give exactly two elements\n",
    "df['Player1'] = df['Player1'].apply(lambda x: x.split()[0] if len(x.split()) > 1 else x)\n",
    "df['Player2'] = df['Player2'].apply(lambda x: x.split()[0] if len(x.split()) > 1 else x)\n",
    "df['Age_Player1'] = df['Age_Player1'].apply(lambda x: x.strip())\n",
    "df['Age_Player2'] = df['Age_Player2'].apply(lambda x: x.strip())\n",
    "\n",
    "# Save the DataFrame as an Excel file\n",
    "df.to_excel(output_file, index=False)\n"
   ]
  }
 ],
 "metadata": {
  "kernelspec": {
   "display_name": "Python 3",
   "language": "python",
   "name": "python3"
  },
  "language_info": {
   "codemirror_mode": {
    "name": "ipython",
    "version": 3
   },
   "file_extension": ".py",
   "mimetype": "text/x-python",
   "name": "python",
   "nbconvert_exporter": "python",
   "pygments_lexer": "ipython3",
   "version": "3.7.3"
  }
 },
 "nbformat": 4,
 "nbformat_minor": 2
}
