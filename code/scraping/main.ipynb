{
 "cells": [
  {
   "cell_type": "code",
   "execution_count": 40,
   "metadata": {},
   "outputs": [],
   "source": [
    "import os\n",
    "import csv\n",
    "from selenium import webdriver\n",
    "from selenium.webdriver.chrome.options import Options\n",
    "from selenium.webdriver.chrome.service import Service\n",
    "from selenium.webdriver.common.by import By\n",
    "from selenium.webdriver.support.ui import WebDriverWait\n",
    "from selenium.webdriver.support import expected_conditions as EC\n",
    "from bs4 import BeautifulSoup\n",
    "import time\n",
    "import pandas as pd\n"
   ]
  },
  {
   "cell_type": "code",
   "execution_count": 41,
   "metadata": {},
   "outputs": [],
   "source": [
    "user = \"aldi\""
   ]
  },
  {
   "cell_type": "code",
   "execution_count": 42,
   "metadata": {},
   "outputs": [],
   "source": [
    "# Path to the ChromeDriver\n",
    "chrome_driver_path = f\"C:/Users/{user}/Downloads/chromedriver.exe\""
   ]
  },
  {
   "cell_type": "code",
   "execution_count": 43,
   "metadata": {},
   "outputs": [],
   "source": [
    "output_folder = f\"C:/Users/{user}/Documents/GitHub/tennis-homophily/data/atp\"\n"
   ]
  },
  {
   "cell_type": "code",
   "execution_count": 44,
   "metadata": {},
   "outputs": [],
   "source": [
    "url = \"https://www.atptour.com/en/rankings/doubles?rankRange=1-5000\""
   ]
  },
  {
   "cell_type": "code",
   "execution_count": 45,
   "metadata": {},
   "outputs": [],
   "source": [
    "%run functions.ipynb"
   ]
  },
  {
   "cell_type": "code",
   "execution_count": 55,
   "metadata": {},
   "outputs": [],
   "source": [
    "# Configure ChromeOptions for headless mode\n",
    "options = Options()\n",
    "#options.add_argument(\"--headless\")\n",
    "# add options to diagnose errors\n",
    "options.add_argument(\"--verbose\")\n",
    "options.add_argument(\"--log-path=chromedriver.log\")\n",
    "\n",
    "\n",
    "service = Service(chrome_driver_path)"
   ]
  },
  {
   "cell_type": "code",
   "execution_count": 56,
   "metadata": {},
   "outputs": [
    {
     "name": "stdout",
     "output_type": "stream",
     "text": [
      "Filtered Dates: ['2023-12-11', '2023-11-27', '2023-10-30', '2023-09-25', '2023-08-28', '2023-07-31', '2023-06-26', '2023-05-29', '2023-04-24', '2023-03-20', '2023-02-27', '2023-01-30', '2022-12-26', '2022-11-28', '2022-10-31', '2022-09-26', '2022-08-29', '2022-07-25', '2022-06-27', '2022-05-23', '2022-04-25', '2022-03-21', '2022-02-28', '2022-01-31', '2021-12-27', '2021-11-29', '2021-10-25', '2021-09-27', '2021-08-30', '2021-07-26', '2021-06-28', '2021-05-31', '2021-04-26', '2021-03-22', '2021-02-22', '2021-01-25', '2020-12-28', '2020-11-30', '2020-10-26', '2020-09-28', '2020-08-31', '2020-03-16', '2020-02-24', '2020-01-20', '2019-12-30', '2019-11-25', '2019-10-28', '2019-09-30', '2019-08-26', '2019-07-29', '2019-06-24', '2019-05-27', '2019-04-29', '2019-03-18', '2019-02-25', '2019-01-28', '2018-12-31', '2018-11-26', '2018-10-29', '2018-09-24', '2018-08-27', '2018-07-30', '2018-06-25', '2018-05-28', '2018-04-30', '2018-03-19', '2018-02-26', '2018-01-29', '2017-12-25', '2017-11-27', '2017-10-30', '2017-09-25', '2017-08-28', '2017-07-31', '2017-06-26', '2017-05-29', '2017-04-24', '2017-03-20', '2017-02-27', '2017-01-30', '2016-12-26', '2016-11-28', '2016-10-31', '2016-09-26', '2016-08-29', '2016-07-25', '2016-06-27', '2016-05-23', '2016-04-25', '2016-03-21', '2016-02-29', '2016-01-18']\n",
      "Accessing URL for date: 2023-12-11\n",
      "Processing row 1: Rank 1, Player Austin Krajicek\n",
      "Processing row 2: Rank 2, Player Ivan Dodig\n",
      "Processing row 3: Rank 3, Player Rohan Bopanna\n",
      "Processing row 4: Rank 4, Player Matthew Ebden\n",
      "Processing row 5: Rank 5, Player Horacio Zeballos\n",
      "Processing row 6: Rank 6, Player Rajeev Ram\n",
      "Processing row 7: Rank 7, Player Joe Salisbury\n",
      "Processing row 8: Rank 8, Player Wesley Koolhof\n",
      "Processing row 9: Rank 9, Player Neal Skupski\n",
      "Processing row 10: Rank 10, Player Marcel Granollers\n",
      "Processing row 11: Rank 11T, Player Santiago Gonzalez\n",
      "Processing row 12: Rank 11T, Player Edouard Roger-Vasselin\n",
      "Processing row 13: Rank 13T, Player Maximo Gonzalez\n",
      "Processing row 14: Rank 13T, Player Andres Molteni\n",
      "Processing row 15: Rank 15, Player Hugo Nys\n",
      "Processing row 16: Rank 16T, Player Jamie Murray\n",
      "Processing row 17: Rank 16T, Player Michael Venus\n",
      "Processing row 18: Rank 18, Player Jean-Julien Rojer\n",
      "Processing row 19: Rank 19, Player Marcelo Arevalo\n",
      "Processing row 20: Rank 20, Player Jan Zielinski\n",
      "Processing row 21: Rank 21, Player Kevin Krawietz\n",
      "Processing row 22: Rank 22, Player Jackson Withrow\n",
      "Processing row 23: Rank 23, Player Rinky Hijikata\n",
      "Processing row 24: Rank 24, Player Tim Puetz\n",
      "Accessing URL for date: 2023-11-27\n",
      "Processing row 1: Rank 1, Player Austin Krajicek\n"
     ]
    },
    {
     "ename": "KeyboardInterrupt",
     "evalue": "",
     "output_type": "error",
     "traceback": [
      "\u001b[1;31m---------------------------------------------------------------------------\u001b[0m",
      "\u001b[1;31mtimeout\u001b[0m                                   Traceback (most recent call last)",
      "\u001b[1;32mC:\\ProgramData\\Anaconda3\\lib\\socket.py\u001b[0m in \u001b[0;36mcreate_connection\u001b[1;34m(address, timeout, source_address)\u001b[0m\n\u001b[0;32m    715\u001b[0m                 \u001b[0msock\u001b[0m\u001b[1;33m.\u001b[0m\u001b[0mbind\u001b[0m\u001b[1;33m(\u001b[0m\u001b[0msource_address\u001b[0m\u001b[1;33m)\u001b[0m\u001b[1;33m\u001b[0m\u001b[1;33m\u001b[0m\u001b[0m\n\u001b[1;32m--> 716\u001b[1;33m             \u001b[0msock\u001b[0m\u001b[1;33m.\u001b[0m\u001b[0mconnect\u001b[0m\u001b[1;33m(\u001b[0m\u001b[0msa\u001b[0m\u001b[1;33m)\u001b[0m\u001b[1;33m\u001b[0m\u001b[1;33m\u001b[0m\u001b[0m\n\u001b[0m\u001b[0;32m    717\u001b[0m             \u001b[1;31m# Break explicitly a reference cycle\u001b[0m\u001b[1;33m\u001b[0m\u001b[1;33m\u001b[0m\u001b[1;33m\u001b[0m\u001b[0m\n",
      "\u001b[1;31mtimeout\u001b[0m: timed out",
      "\nDuring handling of the above exception, another exception occurred:\n",
      "\u001b[1;31mKeyboardInterrupt\u001b[0m                         Traceback (most recent call last)",
      "\u001b[1;32m<ipython-input-56-be64b0b77b3a>\u001b[0m in \u001b[0;36m<module>\u001b[1;34m\u001b[0m\n\u001b[0;32m     89\u001b[0m \u001b[1;33m\u001b[0m\u001b[0m\n\u001b[0;32m     90\u001b[0m                     \u001b[0mall_data\u001b[0m\u001b[1;33m.\u001b[0m\u001b[0mappend\u001b[0m\u001b[1;33m(\u001b[0m\u001b[1;33m[\u001b[0m\u001b[0mrank\u001b[0m\u001b[1;33m,\u001b[0m \u001b[0mplayer_name\u001b[0m\u001b[1;33m,\u001b[0m \u001b[0mage\u001b[0m\u001b[1;33m,\u001b[0m \u001b[0mpoints\u001b[0m\u001b[1;33m,\u001b[0m \u001b[0mtournaments_played\u001b[0m\u001b[1;33m,\u001b[0m \u001b[0myear_pro\u001b[0m\u001b[1;33m,\u001b[0m \u001b[0mweight_kg\u001b[0m\u001b[1;33m,\u001b[0m \u001b[0mheight_cm\u001b[0m\u001b[1;33m,\u001b[0m \u001b[0mcity_birthplace\u001b[0m\u001b[1;33m,\u001b[0m \u001b[0mcountry_birthplace\u001b[0m\u001b[1;33m,\u001b[0m \u001b[0mhand\u001b[0m\u001b[1;33m,\u001b[0m \u001b[0mbackhand\u001b[0m\u001b[1;33m,\u001b[0m \u001b[0mcoach1\u001b[0m\u001b[1;33m,\u001b[0m \u001b[0mcoach2\u001b[0m\u001b[1;33m]\u001b[0m\u001b[1;33m)\u001b[0m\u001b[1;33m\u001b[0m\u001b[1;33m\u001b[0m\u001b[0m\n\u001b[1;32m---> 91\u001b[1;33m                     \u001b[0mdates\u001b[0m\u001b[1;33m.\u001b[0m\u001b[0mappend\u001b[0m\u001b[1;33m(\u001b[0m\u001b[0mdate\u001b[0m\u001b[1;33m)\u001b[0m  \u001b[1;31m# Append date for each row\u001b[0m\u001b[1;33m\u001b[0m\u001b[1;33m\u001b[0m\u001b[0m\n\u001b[0m\u001b[0;32m     92\u001b[0m \u001b[1;33m\u001b[0m\u001b[0m\n\u001b[0;32m     93\u001b[0m     \u001b[0mdf\u001b[0m \u001b[1;33m=\u001b[0m \u001b[0mpd\u001b[0m\u001b[1;33m.\u001b[0m\u001b[0mDataFrame\u001b[0m\u001b[1;33m(\u001b[0m\u001b[0mall_data\u001b[0m\u001b[1;33m,\u001b[0m \u001b[0mcolumns\u001b[0m\u001b[1;33m=\u001b[0m\u001b[1;33m[\u001b[0m\u001b[1;34m\"Rank\"\u001b[0m\u001b[1;33m,\u001b[0m \u001b[1;34m\"Player\"\u001b[0m\u001b[1;33m,\u001b[0m \u001b[1;34m\"Age\"\u001b[0m\u001b[1;33m,\u001b[0m \u001b[1;34m\"Points\"\u001b[0m\u001b[1;33m,\u001b[0m \u001b[1;34m\"Tournaments Played\"\u001b[0m\u001b[1;33m,\u001b[0m \u001b[1;34m\"Year Turned Pro\"\u001b[0m\u001b[1;33m,\u001b[0m \u001b[1;34m\"Weight (kg)\"\u001b[0m\u001b[1;33m,\u001b[0m \u001b[1;34m\"Height (cm)\"\u001b[0m\u001b[1;33m,\u001b[0m \u001b[1;34m\"City of Birthplace\"\u001b[0m\u001b[1;33m,\u001b[0m \u001b[1;34m\"Country of Birthplace\"\u001b[0m\u001b[1;33m,\u001b[0m \u001b[1;34m\"Hand\"\u001b[0m\u001b[1;33m,\u001b[0m \u001b[1;34m\"Backhand\"\u001b[0m\u001b[1;33m,\u001b[0m \u001b[1;34m\"Coach1\"\u001b[0m\u001b[1;33m,\u001b[0m \u001b[1;34m\"Coach2\"\u001b[0m\u001b[1;33m]\u001b[0m\u001b[1;33m)\u001b[0m\u001b[1;33m\u001b[0m\u001b[1;33m\u001b[0m\u001b[0m\n",
      "\u001b[1;32m~\\AppData\\Roaming\\Python\\Python37\\site-packages\\selenium\\webdriver\\remote\\webdriver.py\u001b[0m in \u001b[0;36m__exit__\u001b[1;34m(self, *args)\u001b[0m\n\u001b[0;32m    283\u001b[0m \u001b[1;33m\u001b[0m\u001b[0m\n\u001b[0;32m    284\u001b[0m     \u001b[1;32mdef\u001b[0m \u001b[0m__exit__\u001b[0m\u001b[1;33m(\u001b[0m\u001b[0mself\u001b[0m\u001b[1;33m,\u001b[0m \u001b[1;33m*\u001b[0m\u001b[0margs\u001b[0m\u001b[1;33m)\u001b[0m\u001b[1;33m:\u001b[0m\u001b[1;33m\u001b[0m\u001b[1;33m\u001b[0m\u001b[0m\n\u001b[1;32m--> 285\u001b[1;33m         \u001b[0mself\u001b[0m\u001b[1;33m.\u001b[0m\u001b[0mquit\u001b[0m\u001b[1;33m(\u001b[0m\u001b[1;33m)\u001b[0m\u001b[1;33m\u001b[0m\u001b[1;33m\u001b[0m\u001b[0m\n\u001b[0m\u001b[0;32m    286\u001b[0m \u001b[1;33m\u001b[0m\u001b[0m\n\u001b[0;32m    287\u001b[0m     \u001b[1;33m@\u001b[0m\u001b[0mcontextmanager\u001b[0m\u001b[1;33m\u001b[0m\u001b[1;33m\u001b[0m\u001b[0m\n",
      "\u001b[1;32m~\\AppData\\Roaming\\Python\\Python37\\site-packages\\selenium\\webdriver\\chromium\\webdriver.py\u001b[0m in \u001b[0;36mquit\u001b[1;34m(self)\u001b[0m\n\u001b[0;32m    237\u001b[0m             \u001b[1;32mpass\u001b[0m\u001b[1;33m\u001b[0m\u001b[1;33m\u001b[0m\u001b[0m\n\u001b[0;32m    238\u001b[0m         \u001b[1;32mfinally\u001b[0m\u001b[1;33m:\u001b[0m\u001b[1;33m\u001b[0m\u001b[1;33m\u001b[0m\u001b[0m\n\u001b[1;32m--> 239\u001b[1;33m             \u001b[0mself\u001b[0m\u001b[1;33m.\u001b[0m\u001b[0mservice\u001b[0m\u001b[1;33m.\u001b[0m\u001b[0mstop\u001b[0m\u001b[1;33m(\u001b[0m\u001b[1;33m)\u001b[0m\u001b[1;33m\u001b[0m\u001b[1;33m\u001b[0m\u001b[0m\n\u001b[0m\u001b[0;32m    240\u001b[0m \u001b[1;33m\u001b[0m\u001b[0m\n\u001b[0;32m    241\u001b[0m     \u001b[1;32mdef\u001b[0m \u001b[0mcreate_options\u001b[0m\u001b[1;33m(\u001b[0m\u001b[0mself\u001b[0m\u001b[1;33m)\u001b[0m \u001b[1;33m->\u001b[0m \u001b[0mBaseOptions\u001b[0m\u001b[1;33m:\u001b[0m\u001b[1;33m\u001b[0m\u001b[1;33m\u001b[0m\u001b[0m\n",
      "\u001b[1;32m~\\AppData\\Roaming\\Python\\Python37\\site-packages\\selenium\\webdriver\\common\\service.py\u001b[0m in \u001b[0;36mstop\u001b[1;34m(self)\u001b[0m\n\u001b[0;32m    145\u001b[0m \u001b[1;33m\u001b[0m\u001b[0m\n\u001b[0;32m    146\u001b[0m         \u001b[1;32mtry\u001b[0m\u001b[1;33m:\u001b[0m\u001b[1;33m\u001b[0m\u001b[1;33m\u001b[0m\u001b[0m\n\u001b[1;32m--> 147\u001b[1;33m             \u001b[0mself\u001b[0m\u001b[1;33m.\u001b[0m\u001b[0msend_remote_shutdown_command\u001b[0m\u001b[1;33m(\u001b[0m\u001b[1;33m)\u001b[0m\u001b[1;33m\u001b[0m\u001b[1;33m\u001b[0m\u001b[0m\n\u001b[0m\u001b[0;32m    148\u001b[0m         \u001b[1;32mexcept\u001b[0m \u001b[0mTypeError\u001b[0m\u001b[1;33m:\u001b[0m\u001b[1;33m\u001b[0m\u001b[1;33m\u001b[0m\u001b[0m\n\u001b[0;32m    149\u001b[0m             \u001b[1;32mpass\u001b[0m\u001b[1;33m\u001b[0m\u001b[1;33m\u001b[0m\u001b[0m\n",
      "\u001b[1;32m~\\AppData\\Roaming\\Python\\Python37\\site-packages\\selenium\\webdriver\\common\\service.py\u001b[0m in \u001b[0;36msend_remote_shutdown_command\u001b[1;34m(self)\u001b[0m\n\u001b[0;32m    126\u001b[0m \u001b[1;33m\u001b[0m\u001b[0m\n\u001b[0;32m    127\u001b[0m         \u001b[1;32mfor\u001b[0m \u001b[0mx\u001b[0m \u001b[1;32min\u001b[0m \u001b[0mrange\u001b[0m\u001b[1;33m(\u001b[0m\u001b[1;36m30\u001b[0m\u001b[1;33m)\u001b[0m\u001b[1;33m:\u001b[0m\u001b[1;33m\u001b[0m\u001b[1;33m\u001b[0m\u001b[0m\n\u001b[1;32m--> 128\u001b[1;33m             \u001b[1;32mif\u001b[0m \u001b[1;32mnot\u001b[0m \u001b[0mself\u001b[0m\u001b[1;33m.\u001b[0m\u001b[0mis_connectable\u001b[0m\u001b[1;33m(\u001b[0m\u001b[1;33m)\u001b[0m\u001b[1;33m:\u001b[0m\u001b[1;33m\u001b[0m\u001b[1;33m\u001b[0m\u001b[0m\n\u001b[0m\u001b[0;32m    129\u001b[0m                 \u001b[1;32mbreak\u001b[0m\u001b[1;33m\u001b[0m\u001b[1;33m\u001b[0m\u001b[0m\n\u001b[0;32m    130\u001b[0m             \u001b[1;32melse\u001b[0m\u001b[1;33m:\u001b[0m\u001b[1;33m\u001b[0m\u001b[1;33m\u001b[0m\u001b[0m\n",
      "\u001b[1;32m~\\AppData\\Roaming\\Python\\Python37\\site-packages\\selenium\\webdriver\\common\\service.py\u001b[0m in \u001b[0;36mis_connectable\u001b[1;34m(self)\u001b[0m\n\u001b[0;32m    114\u001b[0m \u001b[1;33m\u001b[0m\u001b[0m\n\u001b[0;32m    115\u001b[0m     \u001b[1;32mdef\u001b[0m \u001b[0mis_connectable\u001b[0m\u001b[1;33m(\u001b[0m\u001b[0mself\u001b[0m\u001b[1;33m)\u001b[0m\u001b[1;33m:\u001b[0m\u001b[1;33m\u001b[0m\u001b[1;33m\u001b[0m\u001b[0m\n\u001b[1;32m--> 116\u001b[1;33m         \u001b[1;32mreturn\u001b[0m \u001b[0mutils\u001b[0m\u001b[1;33m.\u001b[0m\u001b[0mis_connectable\u001b[0m\u001b[1;33m(\u001b[0m\u001b[0mself\u001b[0m\u001b[1;33m.\u001b[0m\u001b[0mport\u001b[0m\u001b[1;33m)\u001b[0m\u001b[1;33m\u001b[0m\u001b[1;33m\u001b[0m\u001b[0m\n\u001b[0m\u001b[0;32m    117\u001b[0m \u001b[1;33m\u001b[0m\u001b[0m\n\u001b[0;32m    118\u001b[0m     \u001b[1;32mdef\u001b[0m \u001b[0msend_remote_shutdown_command\u001b[0m\u001b[1;33m(\u001b[0m\u001b[0mself\u001b[0m\u001b[1;33m)\u001b[0m\u001b[1;33m:\u001b[0m\u001b[1;33m\u001b[0m\u001b[1;33m\u001b[0m\u001b[0m\n",
      "\u001b[1;32m~\\AppData\\Roaming\\Python\\Python37\\site-packages\\selenium\\webdriver\\common\\utils.py\u001b[0m in \u001b[0;36mis_connectable\u001b[1;34m(port, host)\u001b[0m\n\u001b[0;32m    105\u001b[0m     \u001b[0msocket_\u001b[0m \u001b[1;33m=\u001b[0m \u001b[1;32mNone\u001b[0m\u001b[1;33m\u001b[0m\u001b[1;33m\u001b[0m\u001b[0m\n\u001b[0;32m    106\u001b[0m     \u001b[1;32mtry\u001b[0m\u001b[1;33m:\u001b[0m\u001b[1;33m\u001b[0m\u001b[1;33m\u001b[0m\u001b[0m\n\u001b[1;32m--> 107\u001b[1;33m         \u001b[0msocket_\u001b[0m \u001b[1;33m=\u001b[0m \u001b[0msocket\u001b[0m\u001b[1;33m.\u001b[0m\u001b[0mcreate_connection\u001b[0m\u001b[1;33m(\u001b[0m\u001b[1;33m(\u001b[0m\u001b[0mhost\u001b[0m\u001b[1;33m,\u001b[0m \u001b[0mport\u001b[0m\u001b[1;33m)\u001b[0m\u001b[1;33m,\u001b[0m \u001b[1;36m1\u001b[0m\u001b[1;33m)\u001b[0m\u001b[1;33m\u001b[0m\u001b[1;33m\u001b[0m\u001b[0m\n\u001b[0m\u001b[0;32m    108\u001b[0m         \u001b[0mresult\u001b[0m \u001b[1;33m=\u001b[0m \u001b[1;32mTrue\u001b[0m\u001b[1;33m\u001b[0m\u001b[1;33m\u001b[0m\u001b[0m\n\u001b[0;32m    109\u001b[0m     \u001b[1;32mexcept\u001b[0m \u001b[0m_is_connectable_exceptions\u001b[0m\u001b[1;33m:\u001b[0m\u001b[1;33m\u001b[0m\u001b[1;33m\u001b[0m\u001b[0m\n",
      "\u001b[1;32mC:\\ProgramData\\Anaconda3\\lib\\socket.py\u001b[0m in \u001b[0;36mcreate_connection\u001b[1;34m(address, timeout, source_address)\u001b[0m\n\u001b[0;32m    714\u001b[0m             \u001b[1;32mif\u001b[0m \u001b[0msource_address\u001b[0m\u001b[1;33m:\u001b[0m\u001b[1;33m\u001b[0m\u001b[1;33m\u001b[0m\u001b[0m\n\u001b[0;32m    715\u001b[0m                 \u001b[0msock\u001b[0m\u001b[1;33m.\u001b[0m\u001b[0mbind\u001b[0m\u001b[1;33m(\u001b[0m\u001b[0msource_address\u001b[0m\u001b[1;33m)\u001b[0m\u001b[1;33m\u001b[0m\u001b[1;33m\u001b[0m\u001b[0m\n\u001b[1;32m--> 716\u001b[1;33m             \u001b[0msock\u001b[0m\u001b[1;33m.\u001b[0m\u001b[0mconnect\u001b[0m\u001b[1;33m(\u001b[0m\u001b[0msa\u001b[0m\u001b[1;33m)\u001b[0m\u001b[1;33m\u001b[0m\u001b[1;33m\u001b[0m\u001b[0m\n\u001b[0m\u001b[0;32m    717\u001b[0m             \u001b[1;31m# Break explicitly a reference cycle\u001b[0m\u001b[1;33m\u001b[0m\u001b[1;33m\u001b[0m\u001b[1;33m\u001b[0m\u001b[0m\n\u001b[0;32m    718\u001b[0m             \u001b[0merr\u001b[0m \u001b[1;33m=\u001b[0m \u001b[1;32mNone\u001b[0m\u001b[1;33m\u001b[0m\u001b[1;33m\u001b[0m\u001b[0m\n",
      "\u001b[1;31mKeyboardInterrupt\u001b[0m: "
     ]
    }
   ],
   "source": [
    "try:\n",
    "    all_data = []\n",
    "    dates = []  # List to store corresponding dates\n",
    "\n",
    "    with webdriver.Chrome(service=service) as driver1:\n",
    "        driver1.get(url)\n",
    "        driver1.minimize_window()\n",
    "        WebDriverWait(driver1, 10).until(EC.presence_of_element_located((By.CLASS_NAME, \"mega-table\")))\n",
    "        date_dropdown_ul = WebDriverWait(driver1, 10).until(\n",
    "            EC.presence_of_element_located((By.CSS_SELECTOR, \"ul[data-value='rankDate']\"))\n",
    "        )\n",
    "        date_options = date_dropdown_ul.find_elements(By.TAG_NAME, \"li\")\n",
    "\n",
    "        date_values = []\n",
    "        for option in date_options:\n",
    "            date_value = option.get_attribute(\"data-value\")\n",
    "            if date_value is None:\n",
    "                continue\n",
    "            try:\n",
    "                year = int(date_value[:4])\n",
    "            except ValueError:\n",
    "                continue\n",
    "            if year > 2015:\n",
    "                date_values.append(date_value)\n",
    "\n",
    "    filtered_dates = get_highest_dates(date_values)\n",
    "    print(\"Filtered Dates:\", filtered_dates)\n",
    "\n",
    "#     filtered_dates = [filtered_dates[-1]]\n",
    "\n",
    "    for date in filtered_dates:\n",
    "        with webdriver.Chrome(service=service, options = options) as driver2:\n",
    "            complete_url = f\"https://www.atptour.com/en/rankings/doubles?rankRange=1-5000&rankDate={date}\"\n",
    "            print(\"Accessing URL for date:\", date)  # Print the URL being accessed\n",
    "            driver2.get(complete_url)\n",
    "            driver2.minimize_window()\n",
    "            WebDriverWait(driver2, 10).until(EC.presence_of_element_located((By.CLASS_NAME, \"mega-table\")))  # Wait for the table to be present\n",
    "            time.sleep(5)\n",
    "\n",
    "            page_source = driver2.page_source\n",
    "            soup = BeautifulSoup(page_source, \"html.parser\")\n",
    "\n",
    "            rankings_table = soup.find(\"table\", {\"class\": \"mega-table\"})\n",
    "            if rankings_table is None:\n",
    "                print(f\"Table not found for date: {date}\")\n",
    "                continue  # Skip to the next date if the table is not found\n",
    "\n",
    "            rows = rankings_table.find_all(\"tr\")[1:25] # Process only the first n rows\n",
    "\n",
    "\n",
    "            for index, row in enumerate (rows, start = 1):\n",
    "                rank = row.find(\"td\", {\"class\": \"rank-cell\"}).text.strip()\n",
    "                player_name = row.find(\"td\", {\"class\": \"player-cell\"}).text.strip()\n",
    "                age = row.find(\"td\", {\"class\": \"age-cell\"}).text.strip()\n",
    "                points = row.find(\"td\", {\"class\": \"points-cell\"}).text.strip()\n",
    "                tournaments_played = row.find(\"td\", {\"class\": \"tourn-cell\"}).text.strip()\n",
    "                player_profile_link = row.find(\"a\", href=True)[\"href\"]\n",
    "                print(f\"Processing row {index}: Rank {rank}, Player {player_name}\")  # Print the current row being processed\n",
    "\n",
    "\n",
    "                with webdriver.Chrome(service=service, options = options) as driver3:\n",
    "                    driver3.get(f\"https://www.atptour.com{player_profile_link}\")\n",
    "                    driver3.minimize_window()\n",
    "                    time.sleep(5)\n",
    "                    player_page_source = driver3.page_source\n",
    "                    soup_player = BeautifulSoup(player_page_source, \"html.parser\")\n",
    "\n",
    "                    birthplace_div = soup_player.find(\"div\", class_=\"table-value\")\n",
    "                    birthplace = birthplace_div.get_text(strip=True)\n",
    "                    city_birthplace, _, country_birthplace = birthplace.partition(\",\")\n",
    "\n",
    "                    turned_pro_label_div = soup_player.find(\"div\", class_=\"table-big-label\", text=\"Turned Pro\")\n",
    "                    year_pro_div = turned_pro_label_div.find_next_sibling(\"div\", class_=\"table-big-value\")\n",
    "                    year_pro = year_pro_div.get_text(strip=True)\n",
    "\n",
    "                    weight_span = soup_player.select_one(\"span.table-weight-kg-wrapper\")\n",
    "                    weight_kg = weight_span.get_text(strip=True).strip(\"()\") if weight_span else \"\"\n",
    "\n",
    "                    height_span = soup_player.select_one(\"span.table-height-cm-wrapper\")\n",
    "                    height_cm = height_span.get_text(strip=True).strip(\"()\") if height_span else \"\"\n",
    "\n",
    "                    hand_backhand_div = soup_player.find_all(\"div\", class_=\"table-value\")[1]\n",
    "                    hand, backhand = [item.strip() for item in hand_backhand_div.get_text(strip=True).split(\",\")]\n",
    "\n",
    "                    coach_div = soup_player.find_all(\"div\", class_=\"table-value\")[2]\n",
    "                    coaches = coach_div.get_text(strip=True).split(\", \")\n",
    "                    coach1 = coaches[0]\n",
    "                    coach2 = coaches[1] if len(coaches) > 1 else \"\"\n",
    "\n",
    "                    all_data.append([rank, player_name, age, points, tournaments_played, year_pro, weight_kg, height_cm, city_birthplace, country_birthplace, hand, backhand, coach1, coach2])\n",
    "                    dates.append(date)  # Append date for each row\n",
    "\n",
    "    df = pd.DataFrame(all_data, columns=[\"Rank\", \"Player\", \"Age\", \"Points\", \"Tournaments Played\", \"Year Turned Pro\", \"Weight (kg)\", \"Height (cm)\", \"City of Birthplace\", \"Country of Birthplace\", \"Hand\", \"Backhand\", \"Coach1\", \"Coach2\"])\n",
    "    df['Date'] = dates  # Add 'Date' column to the DataFrame\n",
    "\n",
    "    output_excel_filename = os.path.join(output_folder, \"atp_doubles.xlsx\")\n",
    "    df.to_excel(output_excel_filename, index=False)\n",
    "\n",
    "    print(f\"All data saved to {output_excel_filename}\")\n",
    "\n",
    "finally:\n",
    "    service.stop()\n"
   ]
  },
  {
   "cell_type": "code",
   "execution_count": null,
   "metadata": {},
   "outputs": [],
   "source": []
  }
 ],
 "metadata": {
  "kernelspec": {
   "display_name": "Python 3",
   "language": "python",
   "name": "python3"
  },
  "language_info": {
   "codemirror_mode": {
    "name": "ipython",
    "version": 3
   },
   "file_extension": ".py",
   "mimetype": "text/x-python",
   "name": "python",
   "nbconvert_exporter": "python",
   "pygments_lexer": "ipython3",
   "version": "3.7.3"
  }
 },
 "nbformat": 4,
 "nbformat_minor": 5
}
