{
 "cells": [
  {
   "cell_type": "code",
   "execution_count": 13,
   "metadata": {},
   "outputs": [],
   "source": [
    "import os\n",
    "import time\n",
    "import random\n",
    "import pandas as pd\n",
    "from getpass import getuser\n",
    "from selenium.webdriver import Firefox\n",
    "from selenium.webdriver.firefox.options import Options\n",
    "from selenium.webdriver.firefox.service import Service\n",
    "from selenium.webdriver.common.by import By\n",
    "from selenium.webdriver.support.ui import WebDriverWait\n",
    "from selenium.webdriver.support import expected_conditions as EC\n",
    "from bs4 import BeautifulSoup\n",
    "from datetime import datetime\n"
   ]
  },
  {
   "cell_type": "code",
   "execution_count": 14,
   "metadata": {},
   "outputs": [],
   "source": [
    "user = getuser()\n",
    "\n",
    "# Paths and folders\n",
    "geckodriver_driver_path = f\"C:/Users/{user}/Downloads/geckodriver.exe\"\n",
    "firefox_binary_path = f\"C:/Users/{user}/AppData/Local/Mozilla Firefox/firefox.exe\"  # Update with the correct path to Firefox binary\n",
    "output_folder = f\"C:/Users/{user}/Documents/GitHub/tennis-homophily/data/atp\"\n",
    "os.makedirs(output_folder, exist_ok=True)\n"
   ]
  },
  {
   "cell_type": "code",
   "execution_count": 15,
   "metadata": {},
   "outputs": [],
   "source": [
    "def configure_driver():\n",
    "    options = Options()\n",
    "    options.binary_location = firefox_binary_path\n",
    "#     options.add_argument(\"--headless\")  # Uncomment to run headless Firefox\n",
    "    service = Service(geckodriver_driver_path)\n",
    "    return Firefox(service=service, options=options)\n",
    "\n",
    "def random_sleep(min_seconds=1, max_seconds=5):\n",
    "    time.sleep(random.uniform(min_seconds, max_seconds))\n"
   ]
  },
  {
   "cell_type": "code",
   "execution_count": 16,
   "metadata": {},
   "outputs": [],
   "source": [
    "def scrape_player_urls():\n",
    "    driver = configure_driver()\n",
    "    ranking_url = \"https://www.atptour.com/en/rankings/doubles?RankRange=1-100&Region=all&DateWeek=2024-05-20\"\n",
    "    driver.get(ranking_url)\n",
    "    random_sleep()  # Random sleep to mimic human behavior\n",
    "\n",
    "    # Wait for the table to load\n",
    "    WebDriverWait(driver, 20).until(\n",
    "        EC.presence_of_element_located((By.CSS_SELECTOR, \"tbody\"))\n",
    "    )\n",
    "    \n",
    "    page_source = driver.page_source\n",
    "    soup = BeautifulSoup(page_source, \"html.parser\")\n",
    "    \n",
    "    player_data = []\n",
    "    table = soup.find(\"tbody\")\n",
    "    if table:\n",
    "        rows = table.find_all(\"tr\")\n",
    "        tourns_cells = driver.find_elements(By.XPATH, \"//td[@class='tourns center small-cell']\")\n",
    "        n_rows = 25 # change number of players\n",
    "        for row, tourn_cell in zip(rows[:n_rows], tourns_cells[:n_rows]):  # Select only the first n_rows\n",
    "            player_info = {}\n",
    "            rank_cell = row.find(\"td\", class_=\"rank bold heavy tiny-cell\")\n",
    "            player_cell = row.find(\"td\", class_=\"player bold heavy large-cell\")\n",
    "                    \n",
    "            if rank_cell and player_cell:\n",
    "                player_info[\"Rank\"] = rank_cell.text.strip()\n",
    "                player_info[\"Player\"] = player_cell.text.strip()\n",
    "                player_info[\"Tourns\"] = tourn_cell.text\n",
    "                player_info[\"Player Profile Link\"] = \"https://www.atptour.com\" + player_cell.find(\"a\").get(\"href\").strip() if player_cell.find(\"a\") else \"\"\n",
    "                player_data.append(player_info)\n",
    "    \n",
    "    driver.quit()\n",
    "\n",
    "    return player_data\n"
   ]
  },
  {
   "cell_type": "code",
   "execution_count": 17,
   "metadata": {},
   "outputs": [],
   "source": [
    "def scrape_player_profile(profile_link):\n",
    "    driver = configure_driver()\n",
    "    driver.get(profile_link)\n",
    "    random_sleep()  # Random sleep to mimic human behavior\n",
    "    \n",
    "    # Retry logic\n",
    "    retries = 3\n",
    "    while retries > 0:\n",
    "        try:\n",
    "            # Wait for the profile section to load\n",
    "            WebDriverWait(driver, 20).until(\n",
    "                EC.presence_of_element_located((By.CSS_SELECTOR, \"ul.pd_left\"))\n",
    "            )\n",
    "            break\n",
    "        except Exception as e:\n",
    "            print(f\"Retrying... ({3 - retries} attempts left)\")\n",
    "            retries -= 1\n",
    "            random_sleep(5, 10)\n",
    "    \n",
    "    page_source = driver.page_source\n",
    "    soup = BeautifulSoup(page_source, \"html.parser\")\n",
    "    driver.quit()\n",
    "    player_profile_data = {}\n",
    "\n",
    "    # Overview\n",
    "    wins = soup.find_all(\"div\", class_='wins')\n",
    "    for timerange, win in zip(['YTD', 'Career'], wins):\n",
    "        player_profile_data[f'W-L {timerange}'] = win.text.strip()[:-4]\n",
    "    titles = soup.find_all(\"div\", class_='titles')\n",
    "    for timerange, title in  zip(['YTD', 'Career'], titles):\n",
    "        player_profile_data[f'Titles {timerange}'] = title.text.strip()[:-7]\n",
    "    \n",
    "    # Details\n",
    "    for html_class in (\"pd_left\", \"pd_right\"):\n",
    "        profile_section = soup.find(\"ul\", class_=html_class)\n",
    "        if profile_section:\n",
    "            items = profile_section.find_all(\"li\")\n",
    "            for item in items:\n",
    "                spans = item.find_all(\"span\")\n",
    "                if len(spans) > 1:\n",
    "                    if spans[0].text.strip() == 'Follow player':\n",
    "                        continue\n",
    "                    key = spans[0].text.strip()\n",
    "                    value = spans[1].text.strip()\n",
    "                    player_profile_data[key] = value\n",
    "\n",
    "    print(f\"Scraped data: {player_profile_data}\")\n",
    "    return player_profile_data"
   ]
  },
  {
   "cell_type": "code",
   "execution_count": 18,
   "metadata": {},
   "outputs": [],
   "source": [
    "def save_player_info_to_excel(data):\n",
    "    df = pd.DataFrame(data)\n",
    "    output_excel_filename = os.path.join(output_folder, \"ranking_doubles.xlsx\")\n",
    "    \n",
    "    df.to_excel(output_excel_filename, index=False)\n",
    "    print(f\"Player information saved to {output_excel_filename}\")\n"
   ]
  },
  {
   "cell_type": "code",
   "execution_count": 19,
   "metadata": {},
   "outputs": [
    {
     "name": "stderr",
     "output_type": "stream",
     "text": [
      "C:\\ProgramData\\Anaconda3\\lib\\site-packages\\ipykernel_launcher.py:5: DeprecationWarning: Firefox will soon stop logging to geckodriver.log by default; Specify desired logs with log_output\n",
      "  \"\"\"\n"
     ]
    },
    {
     "name": "stdout",
     "output_type": "stream",
     "text": [
      "Found 24 player profiles.\n",
      "Scraped data: {'W-L YTD': '29 - 9', 'W-L Career': '516 - 319', 'Titles YTD': '1', 'Titles Career': '26', 'Age': '38 (1986.04.12)', 'Weight': '176 lbs (80kg)', 'Height': '6\\'3\" (191cm)', 'Turned pro': '2003', 'Country': 'Spain', 'Birthplace': 'Barcelona, Spain', 'Plays': 'Right-Handed, Two-Handed Backhand', 'Coach': 'Victor Carceller'}\n",
      "Scraped data: {'W-L YTD': '29 - 9', 'W-L Career': '352 - 209', 'Titles YTD': '1', 'Titles Career': '21', 'Age': '39 (1985.04.27)', 'Weight': '185 lbs (84kg)', 'Height': '6\\'2\" (188cm)', 'Turned pro': '2003', 'Country': 'Argentina', 'Birthplace': 'Mar del Plata, Argentina', 'Plays': 'Left-Handed, One-Handed Backhand', 'Coach': 'Alejandro Lombardo'}\n",
      "Scraped data: {'W-L YTD': '19 - 8', 'W-L Career': '188 - 153', 'Titles YTD': '2', 'Titles Career': '11', 'Age': '36 (1987.11.26)', 'Weight': '176 lbs (80kg)', 'Height': '6\\'2\" (188cm)', 'Turned pro': '2006', 'Country': 'Australia', 'Birthplace': 'Durban, South Africa', 'Plays': 'Right-Handed, Two-Handed Backhand', 'Coach': 'Omar Hejleh'}\n",
      "Scraped data: {'W-L YTD': '19 - 8', 'W-L Career': '516 - 374', 'Titles YTD': '2', 'Titles Career': '26', 'Age': '44 (1980.03.04)', 'Weight': '185 lbs (84kg)', 'Height': '6\\'4\" (193cm)', 'Turned pro': '2003', 'Country': 'India', 'Birthplace': 'Bangalore, India', 'Plays': 'Right-Handed, One-Handed Backhand', 'Coach': 'Scott Davidoff'}\n",
      "Scraped data: {'W-L YTD': '16 - 10', 'W-L Career': '224 - 118', 'Titles YTD': '1', 'Titles Career': '17', 'Age': '32 (1992.04.20)', 'Weight': '183 lbs (83kg)', 'Height': '6\\'3\" (191cm)', 'Turned pro': '2014', 'Country': 'Great Britain', 'Birthplace': 'London, England', 'Plays': 'Right-Handed, One-Handed Backhand', 'Coach': \"Justin Sherring, David O'Hare, Louis Cayer\"}\n",
      "Scraped data: {'W-L YTD': '16 - 11', 'W-L Career': '460 - 320', 'Titles YTD': '1', 'Titles Career': '31', 'Age': '40 (1984.03.18)', 'Weight': '185 lbs (84kg)', 'Height': '6\\'4\" (193cm)', 'Turned pro': '2004', 'Country': 'United States', 'Birthplace': 'Denver, CO, USA', 'Plays': 'Right-Handed, One-Handed Backhand', 'Coach': 'Bryan Smith'}\n",
      "Scraped data: {'W-L YTD': '17 - 12', 'W-L Career': '452 - 297', 'Titles YTD': '0', 'Titles Career': '24', 'Age': '39 (1985.01.02)', 'Weight': '179 lbs (81kg)', 'Height': '6\\'0\" (183cm)', 'Turned pro': '2004', 'Country': 'Croatia', 'Birthplace': 'Medjugorje, Bosnia-Herzegovina', 'Plays': 'Right-Handed, Two-Handed Backhand', 'Coach': 'Mladen Dodig'}\n",
      "Scraped data: {'W-L YTD': '17 - 11', 'W-L Career': '210 - 154', 'Titles YTD': '0', 'Titles Career': '12', 'Age': '34 (1990.06.16)', 'Weight': '175 lbs (79kg)', 'Height': '6\\'2\" (188cm)', 'Turned pro': '2012', 'Country': 'United States', 'Birthplace': 'Tampa, FL, USA', 'Plays': 'Left-Handed, Two-Handed Backhand', 'Coach': 'Philip Farmer'}\n",
      "Scraped data: {'W-L YTD': '25 - 12', 'W-L Career': '286 - 185', 'Titles YTD': '3', 'Titles Career': '19', 'Age': '35 (1989.04.17)', 'Weight': '171 lbs (78kg)', 'Height': '5\\'11\" (180cm)', 'Turned pro': '2008', 'Country': 'Netherlands', 'Birthplace': 'Zevenaar, Netherlands', 'Plays': 'Right-Handed, Two-Handed Backhand', 'Coach': 'Mariusz Fyrstenberg'}\n",
      "Scraped data: {'W-L YTD': '18 - 15', 'W-L Career': '267 - 178', 'Titles YTD': '1', 'Titles Career': '16', 'Age': '34 (1989.12.01)', 'Weight': '180 lbs (82kg)', 'Height': '6\\'0\" (183cm)', 'Turned pro': '2012', 'Country': 'Great Britain', 'Birthplace': 'Liverpool, England', 'Plays': 'Right-Handed, Two-Handed Backhand', 'Coach': 'Ken Skupski and Louis Cayer'}\n",
      "Scraped data: {'W-L YTD': '14 - 13', 'W-L Career': '410 - 277', 'Titles YTD': '0', 'Titles Career': '28', 'Age': '40 (1983.11.28)', 'Weight': '173 lbs (78kg)', 'Height': '6\\'1\" (185cm)', 'Turned pro': '2002', 'Country': 'France', 'Birthplace': 'Gennevilliers, France', 'Plays': 'Right-Handed, Two-Handed Backhand', 'Coach': 'Dave Marshall'}\n",
      "Scraped data: {'W-L YTD': '16 - 15', 'W-L Career': '405 - 355', 'Titles YTD': '0', 'Titles Career': '23', 'Age': '41 (1983.02.24)', 'Weight': '202 lbs (92kg)', 'Height': '6\\'3\" (191cm)', 'Turned pro': '2001', 'Country': 'Mexico', 'Birthplace': 'Cordoba, Mexico', 'Plays': 'Right-Handed, Two-Handed Backhand', 'Coach': 'Bruno Echagaray'}\n",
      "Scraped data: {'W-L YTD': '30 - 11', 'W-L Career': '181 - 125', 'Titles YTD': '3', 'Titles Career': '12', 'Age': '33 (1990.10.17)', 'Weight': '190 lbs (86kg)', 'Height': '6\\'4\" (193cm)', 'Turned pro': '2012', 'Country': 'El Salvador', 'Birthplace': 'Sonsonate, El Salvador', 'Plays': 'Right-Handed, Two-Handed Backhand', 'Coach': 'Yari Bernardo, Carlos Teixeira'}\n",
      "Scraped data: {'W-L YTD': '20 - 12', 'W-L Career': '194 - 133', 'Titles YTD': '0', 'Titles Career': '9', 'Age': '32 (1992.01.24)', 'Weight': '187 lbs (85kg)', 'Height': '6\\'2\" (188cm)', 'Turned pro': '2010', 'Country': 'Germany', 'Birthplace': 'Coburg, Germany', 'Plays': 'Right-Handed, Two-Handed Backhand', 'Coach': 'Lukas Wolff'}\n",
      "Scraped data: {'W-L YTD': '20 - 12', 'W-L Career': '170 - 105', 'Titles YTD': '0', 'Titles Career': '8', 'Age': '36 (1987.11.19)', 'Weight': '171 lbs (78kg)', 'Height': '6\\'1\" (185cm)', 'Turned pro': '2011', 'Country': 'Germany', 'Birthplace': 'Frankfurt, Germany', 'Plays': 'Right-Handed, Two-Handed Backhand', 'Coach': 'Dominik Meffert'}\n",
      "Scraped data: {'W-L YTD': '18 - 11', 'W-L Career': '206 - 171', 'Titles YTD': '2', 'Titles Career': '18', 'Age': '36 (1988.03.15)', 'Weight': '154 lbs (70kg)', 'Height': '5\\'11\" (180cm)', 'Turned pro': '2005', 'Country': 'Argentina', 'Birthplace': 'Buenos Aires, Argentina', 'Plays': 'Right-Handed, Two-Handed Backhand', 'Coach': 'Leonardo Olguin'}\n",
      "Scraped data: {'W-L YTD': '16 - 9', 'W-L Career': '242 - 185', 'Titles YTD': '2', 'Titles Career': '19', 'Age': '40 (1983.07.20)', 'Weight': '165 lbs (75kg)', 'Height': '5\\'8\" (173cm)', 'Turned pro': '2002', 'Country': 'Argentina', 'Birthplace': 'Tandil, Argentina', 'Plays': 'Right-Handed, Two-Handed Backhand', 'Coach': 'Martin Rodriguez, Cristian Genessio'}\n",
      "Scraped data: {'W-L YTD': '19 - 15', 'W-L Career': '135 - 129', 'Titles YTD': '1', 'Titles Career': '8', 'Age': '33 (1991.01.15)', 'Weight': '165 lbs (75kg)', 'Height': '6\\'1\" (185cm)', 'Turned pro': '2013', 'Country': 'Belgium', 'Birthplace': 'Hasselt, Belgium', 'Plays': 'Right-Handed, One-Handed Backhand', 'Coach': '-'}\n",
      "Scraped data: {'W-L YTD': '19 - 15', 'W-L Career': '135 - 128', 'Titles YTD': '1', 'Titles Career': '8', 'Age': '30 (1993.07.07)', 'Weight': '173 lbs (78kg)', 'Height': '6\\'3\" (191cm)', 'Turned pro': '2014', 'Country': 'Belgium', 'Birthplace': 'Maaseik, Belgium', 'Plays': 'Left-Handed, Two-Handed Backhand', 'Coach': ''}\n",
      "Scraped data: {'W-L YTD': '3 - 4', 'W-L Career': '8 - 11', 'Titles YTD': '0', 'Titles Career': '0', 'Age': '29 (1995.05.05)', 'Weight': '181 lbs (82kg)', 'Height': '6\\'4\" (193cm)', 'Turned pro': '2014', 'Country': 'Italy', 'Birthplace': 'Torino, Italy', 'Plays': 'Right-Handed, One-Handed Backhand', 'Coach': 'Davide Vavassori'}\n",
      "Scraped data: {'W-L YTD': '29 - 9', 'W-L Career': '279 - 212', 'Titles YTD': '2', 'Titles Career': '13', 'Age': '38 (1985.10.08)', 'Weight': '182 lbs (83kg)', 'Height': '6\\'0\" (183cm)', 'Turned pro': '2003', 'Country': 'Italy', 'Birthplace': 'Bologna, Italy', 'Plays': 'Right-Handed, One-Handed Backhand', 'Coach': ''}\n",
      "Scraped data: {'W-L YTD': '25 - 11', 'W-L Career': '311 - 175', 'Titles YTD': '3', 'Titles Career': '28', 'Age': '35 (1988.12.24)', 'Weight': '174 lbs (79kg)', 'Height': '6\\'0\" (183cm)', 'Turned pro': '2008', 'Country': 'Croatia', 'Birthplace': 'Zagreb, Croatia', 'Plays': 'Right-Handed, Two-Handed Backhand', 'Coach': 'Goran Oresic'}\n",
      "Scraped data: {'W-L YTD': '29 - 12', 'W-L Career': '443 - 223', 'Titles YTD': '3', 'Titles Career': '38', 'Age': '30 (1993.07.04)', 'Weight': '183 lbs (83kg)', 'Height': '6\\'3\" (191cm)', 'Turned pro': '2011', 'Country': 'Croatia', 'Birthplace': 'Split, Croatia', 'Plays': 'Left-Handed, Two-Handed Backhand', 'Coach': 'Nadja Pavic'}\n",
      "Scraped data: {'W-L YTD': '16 - 17', 'W-L Career': '527 - 385', 'Titles YTD': '1', 'Titles Career': '37', 'Age': '42 (1981.08.25)', 'Weight': '185 lbs (84kg)', 'Height': '6\\'1\" (185cm)', 'Turned pro': '2003', 'Country': 'Netherlands', 'Birthplace': 'Curacao', 'Plays': 'Right-Handed, Two-Handed Backhand', 'Coach': 'Luis Fernando Manrique'}\n"
     ]
    },
    {
     "name": "stdout",
     "output_type": "stream",
     "text": [
      "Player information saved to C:/Users/aldi/Documents/GitHub/tennis-homophily/data/atp\\ranking_doubles.xlsx\n"
     ]
    }
   ],
   "source": [
    "def main():\n",
    "    # Scrape URLs of Player Profiles\n",
    "    player_data = scrape_player_urls()\n",
    "    print(f\"Found {len(player_data)} player profiles.\")\n",
    "    \n",
    "    # Scrape each player's profile information\n",
    "    for player in player_data:\n",
    "        profile_link = player.get(\"Player Profile Link\")\n",
    "        if profile_link:\n",
    "            profile_data = scrape_player_profile(profile_link)\n",
    "            player.update(profile_data)\n",
    "    \n",
    "    # Save the data\n",
    "    if player_data:\n",
    "        save_player_info_to_excel(player_data)\n",
    "    else:\n",
    "        print(\"No data to save.\")\n",
    "\n",
    "if __name__ == \"__main__\":\n",
    "    main()\n"
   ]
  }
 ],
 "metadata": {
  "kernelspec": {
   "display_name": "Python 3",
   "language": "python",
   "name": "python3"
  },
  "language_info": {
   "codemirror_mode": {
    "name": "ipython",
    "version": 3
   },
   "file_extension": ".py",
   "mimetype": "text/x-python",
   "name": "python",
   "nbconvert_exporter": "python",
   "pygments_lexer": "ipython3",
   "version": "3.7.3"
  }
 },
 "nbformat": 4,
 "nbformat_minor": 2
}
