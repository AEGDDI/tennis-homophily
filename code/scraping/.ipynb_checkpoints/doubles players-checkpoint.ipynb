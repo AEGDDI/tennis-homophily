{
 "cells": [
  {
   "cell_type": "code",
   "execution_count": 17,
   "metadata": {},
   "outputs": [],
   "source": [
    "import os\n",
    "import csv\n",
    "from selenium import webdriver\n",
    "from selenium.webdriver.chrome.options import Options\n",
    "from selenium.webdriver.chrome.service import Service\n",
    "from selenium.webdriver.common.by import By\n",
    "from selenium.webdriver.support.ui import WebDriverWait\n",
    "from selenium.webdriver.support import expected_conditions as EC\n",
    "from bs4 import BeautifulSoup\n",
    "import time\n",
    "import pandas as pd\n"
   ]
  },
  {
   "cell_type": "code",
   "execution_count": 18,
   "metadata": {},
   "outputs": [],
   "source": [
    "user = \"aldi\""
   ]
  },
  {
   "cell_type": "code",
   "execution_count": 19,
   "metadata": {},
   "outputs": [],
   "source": [
    "# Path to the ChromeDriver\n",
    "chrome_driver_path = f\"C:/Users/{user}/Downloads/chromedriver.exe\""
   ]
  },
  {
   "cell_type": "code",
   "execution_count": 20,
   "metadata": {},
   "outputs": [],
   "source": [
    "output_folder = f\"C:/Users/{user}/Documents/GitHub/tennis-homophily/data/atp\"\n"
   ]
  },
  {
   "cell_type": "code",
   "execution_count": 21,
   "metadata": {},
   "outputs": [],
   "source": [
    "url = \"https://www.atptour.com/en/rankings/doubles?rankRange=1-5000\""
   ]
  },
  {
   "cell_type": "code",
   "execution_count": 22,
   "metadata": {},
   "outputs": [],
   "source": [
    "%run functions.ipynb"
   ]
  },
  {
   "cell_type": "code",
   "execution_count": 23,
   "metadata": {},
   "outputs": [],
   "source": [
    "# Configure ChromeOptions for headless mode\n",
    "options = Options()\n",
    "#options.add_argument(\"--headless\")\n",
    "# add options to diagnose errors\n",
    "options.add_argument(\"--verbose\")\n",
    "options.add_argument(\"--log-path=chromedriver.log\")\n",
    "\n",
    "\n",
    "service = Service(chrome_driver_path)"
   ]
  },
  {
   "cell_type": "code",
   "execution_count": null,
   "metadata": {},
   "outputs": [
    {
     "name": "stdout",
     "output_type": "stream",
     "text": [
      "Filtered Dates: ['2023-12-11', '2023-11-27', '2023-10-30', '2023-09-25', '2023-08-28', '2023-07-31', '2023-06-26', '2023-05-29', '2023-04-24', '2023-03-20', '2023-02-27', '2023-01-30', '2022-12-26', '2022-11-28', '2022-10-31', '2022-09-26', '2022-08-29', '2022-07-25', '2022-06-27', '2022-05-23', '2022-04-25', '2022-03-21', '2022-02-28', '2022-01-31', '2021-12-27', '2021-11-29', '2021-10-25', '2021-09-27', '2021-08-30', '2021-07-26', '2021-06-28', '2021-05-31', '2021-04-26', '2021-03-22', '2021-02-22', '2021-01-25', '2020-12-28', '2020-11-30', '2020-10-26', '2020-09-28', '2020-08-31', '2020-03-16', '2020-02-24', '2020-01-20', '2019-12-30', '2019-11-25', '2019-10-28', '2019-09-30', '2019-08-26', '2019-07-29', '2019-06-24', '2019-05-27', '2019-04-29', '2019-03-18', '2019-02-25', '2019-01-28', '2018-12-31', '2018-11-26', '2018-10-29', '2018-09-24', '2018-08-27', '2018-07-30', '2018-06-25', '2018-05-28', '2018-04-30', '2018-03-19', '2018-02-26', '2018-01-29', '2017-12-25', '2017-11-27', '2017-10-30', '2017-09-25', '2017-08-28', '2017-07-31', '2017-06-26', '2017-05-29', '2017-04-24', '2017-03-20', '2017-02-27', '2017-01-30', '2016-12-26', '2016-11-28', '2016-10-31', '2016-09-26', '2016-08-29', '2016-07-25', '2016-06-27', '2016-05-23', '2016-04-25', '2016-03-21', '2016-02-29', '2016-01-18', '2015-12-28', '2015-11-30', '2015-10-26', '2015-09-28', '2015-08-31', '2015-07-27', '2015-06-29', '2015-05-25', '2015-04-27', '2015-03-23', '2015-02-23', '2015-01-19', '2014-12-29', '2014-11-24', '2014-10-27', '2014-09-29', '2014-08-25', '2014-07-28', '2014-06-23', '2014-05-26', '2014-04-28', '2014-03-31', '2014-02-24', '2014-01-27']\n",
      "Accessing URL for date: 2023-12-11\n",
      "Processing row 1: Rank 1, Player Austin Krajicek\n"
     ]
    }
   ],
   "source": [
    "try:\n",
    "    all_data = []\n",
    "    dates = []  # List to store corresponding dates\n",
    "\n",
    "    with webdriver.Chrome(service=service) as driver1:\n",
    "        driver1.get(url)\n",
    "        driver1.minimize_window()\n",
    "        WebDriverWait(driver1, 10).until(EC.presence_of_element_located((By.CLASS_NAME, \"mega-table\")))\n",
    "        date_dropdown_ul = WebDriverWait(driver1, 10).until(\n",
    "            EC.presence_of_element_located((By.CSS_SELECTOR, \"ul[data-value='rankDate']\"))\n",
    "        )\n",
    "        date_options = date_dropdown_ul.find_elements(By.TAG_NAME, \"li\")\n",
    "\n",
    "        date_values = []\n",
    "        for option in date_options:\n",
    "            date_value = option.get_attribute(\"data-value\")\n",
    "            if date_value is None:\n",
    "                continue\n",
    "            try:\n",
    "                year = int(date_value[:4])\n",
    "            except ValueError:\n",
    "                continue\n",
    "            if year > 2013:\n",
    "                date_values.append(date_value)\n",
    "\n",
    "    filtered_dates = get_highest_dates(date_values)\n",
    "    print(\"Filtered Dates:\", filtered_dates)\n",
    "\n",
    "#     filtered_dates = [filtered_dates[-1]]\n",
    "\n",
    "    for date in filtered_dates:\n",
    "        with webdriver.Chrome(service=service, options = options) as driver2:\n",
    "            complete_url = f\"https://www.atptour.com/en/rankings/doubles?rankRange=1-5000&rankDate={date}\"\n",
    "            print(\"Accessing URL for date:\", date)  # Print the URL being accessed\n",
    "            driver2.get(complete_url)\n",
    "            driver2.minimize_window()\n",
    "            WebDriverWait(driver2, 10).until(EC.presence_of_element_located((By.CLASS_NAME, \"mega-table\")))  # Wait for the table to be present\n",
    "            time.sleep(5)\n",
    "\n",
    "            page_source = driver2.page_source\n",
    "            soup = BeautifulSoup(page_source, \"html.parser\")\n",
    "\n",
    "            rankings_table = soup.find(\"table\", {\"class\": \"mega-table\"})\n",
    "            if rankings_table is None:\n",
    "                print(f\"Table not found for date: {date}\")\n",
    "                continue  # Skip to the next date if the table is not found\n",
    "\n",
    "            rows = rankings_table.find_all(\"tr\")[1:150] # Process only the first n rows\n",
    "\n",
    "\n",
    "            for index, row in enumerate (rows, start = 1):\n",
    "                rank = row.find(\"td\", {\"class\": \"rank-cell\"}).text.strip()\n",
    "                player_name = row.find(\"td\", {\"class\": \"player-cell\"}).text.strip()\n",
    "                age = row.find(\"td\", {\"class\": \"age-cell\"}).text.strip()\n",
    "                points = row.find(\"td\", {\"class\": \"points-cell\"}).text.strip()\n",
    "                tournaments_played = row.find(\"td\", {\"class\": \"tourn-cell\"}).text.strip()\n",
    "                player_profile_link = row.find(\"a\", href=True)[\"href\"]\n",
    "                print(f\"Processing row {index}: Rank {rank}, Player {player_name}\")  # Print the current row being processed\n",
    "\n",
    "\n",
    "                with webdriver.Chrome(service=service, options = options) as driver3:\n",
    "                    driver3.get(f\"https://www.atptour.com{player_profile_link}\")\n",
    "                    driver3.minimize_window()\n",
    "                    time.sleep(5)\n",
    "                    player_page_source = driver3.page_source\n",
    "                    soup_player = BeautifulSoup(player_page_source, \"html.parser\")\n",
    "\n",
    "                    birthplace_div = soup_player.find(\"div\", class_=\"table-value\")\n",
    "                    birthplace = birthplace_div.get_text(strip=True)\n",
    "                    city_birthplace, _, country_birthplace = birthplace.partition(\",\")\n",
    "\n",
    "                    turned_pro_label_div = soup_player.find(\"div\", class_=\"table-big-label\", text=\"Turned Pro\")\n",
    "                    year_pro_div = turned_pro_label_div.find_next_sibling(\"div\", class_=\"table-big-value\")\n",
    "                    year_pro = year_pro_div.get_text(strip=True)\n",
    "\n",
    "                    weight_span = soup_player.select_one(\"span.table-weight-kg-wrapper\")\n",
    "                    weight_kg = weight_span.get_text(strip=True).strip(\"()\") if weight_span else \"\"\n",
    "\n",
    "                    height_span = soup_player.select_one(\"span.table-height-cm-wrapper\")\n",
    "                    height_cm = height_span.get_text(strip=True).strip(\"()\") if height_span else \"\"\n",
    "\n",
    "                    hand_backhand_div = soup_player.find_all(\"div\", class_=\"table-value\")[1]\n",
    "                    hand, backhand = [item.strip() for item in hand_backhand_div.get_text(strip=True).split(\",\")]\n",
    "\n",
    "                    coach_div = soup_player.find_all(\"div\", class_=\"table-value\")[2]\n",
    "                    coaches = coach_div.get_text(strip=True).split(\", \")\n",
    "                    coach1 = coaches[0]\n",
    "                    coach2 = coaches[1] if len(coaches) > 1 else \"\"\n",
    "\n",
    "                    all_data.append([rank, player_name, age, points, tournaments_played, year_pro, weight_kg, height_cm, city_birthplace, country_birthplace, hand, backhand, coach1, coach2])\n",
    "                    dates.append(date)  # Append date for each row\n",
    "\n",
    "    df = pd.DataFrame(all_data, columns=[\"Rank\", \"Player\", \"Age\", \"Points\", \"Tournaments Played\", \"Year Turned Pro\", \"Weight (kg)\", \"Height (cm)\", \"City of Birthplace\", \"Country of Birthplace\", \"Hand\", \"Backhand\", \"Coach1\", \"Coach2\"])\n",
    "    df['Date'] = dates  # Add 'Date' column to the DataFrame\n",
    "\n",
    "    output_excel_filename = os.path.join(output_folder, \"atp_doubles.xlsx\")\n",
    "    df.to_excel(output_excel_filename, index=False)\n",
    "\n",
    "    print(f\"All data saved to {output_excel_filename}\")\n",
    "\n",
    "finally:\n",
    "    service.stop()\n"
   ]
  },
  {
   "cell_type": "code",
   "execution_count": null,
   "metadata": {},
   "outputs": [],
   "source": [
    "# shut down operating system after 360 seconds (6 minutes)\n",
    "os.system(\"shutdown /s /t 360\")\n"
   ]
  }
 ],
 "metadata": {
  "kernelspec": {
   "display_name": "Python 3",
   "language": "python",
   "name": "python3"
  },
  "language_info": {
   "codemirror_mode": {
    "name": "ipython",
    "version": 3
   },
   "file_extension": ".py",
   "mimetype": "text/x-python",
   "name": "python",
   "nbconvert_exporter": "python",
   "pygments_lexer": "ipython3",
   "version": "3.7.3"
  }
 },
 "nbformat": 4,
 "nbformat_minor": 5
}
