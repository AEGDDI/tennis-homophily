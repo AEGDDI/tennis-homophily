{
 "cells": [
  {
   "cell_type": "code",
   "execution_count": null,
   "metadata": {},
   "outputs": [],
   "source": [
    "def get_highest_dates(date_values):\n",
    "    highest_dates = {}\n",
    "    for date in date_values:\n",
    "        year_month = date[:7]  # Extract the year and month part of the date\n",
    "        day = int(date[-2:])  # Extract the day part of the date and convert to an integer\n",
    "\n",
    "        # If the current date has a day greater than the stored date for the same year and month,\n",
    "        # update the highest_dates dictionary with the current date\n",
    "        if year_month not in highest_dates or day > highest_dates[year_month]:\n",
    "            highest_dates[year_month] = day\n",
    "\n",
    "    # Combine the year and month with the highest day to form the final list of dates\n",
    "    highest_dates_list = [f\"{year_month}-{highest_day:02d}\" for year_month, highest_day in highest_dates.items()]\n",
    "\n",
    "    return highest_dates_list\n"
   ]
  },
  {
   "cell_type": "code",
   "execution_count": null,
   "metadata": {},
   "outputs": [],
   "source": [
    "# def get_highest_dates(date_list):\n",
    "#     highest_dates = {}\n",
    "#     for date in date_list:\n",
    "#         year_month = date[:7]\n",
    "#         if year_month not in highest_dates:\n",
    "#             highest_dates[year_month] = date\n",
    "#         else:\n",
    "#             current_date = highest_dates[year_month]\n",
    "#             if date > current_date:\n",
    "#                 highest_dates[year_month] = date\n",
    "#     return list(highest_dates.values())"
   ]
  }
 ],
 "metadata": {
  "kernelspec": {
   "display_name": "Python 3",
   "language": "python",
   "name": "python3"
  },
  "language_info": {
   "codemirror_mode": {
    "name": "ipython",
    "version": 3
   },
   "file_extension": ".py",
   "mimetype": "text/x-python",
   "name": "python",
   "nbconvert_exporter": "python",
   "pygments_lexer": "ipython3",
   "version": "3.7.3"
  }
 },
 "nbformat": 4,
 "nbformat_minor": 2
}
